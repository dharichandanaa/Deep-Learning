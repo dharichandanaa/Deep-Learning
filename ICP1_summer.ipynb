{
  "nbformat": 4,
  "nbformat_minor": 0,
  "metadata": {
    "colab": {
      "provenance": []
    },
    "kernelspec": {
      "name": "python3",
      "display_name": "Python 3"
    },
    "language_info": {
      "name": "python"
    }
  },
  "cells": [
    {
      "cell_type": "code",
      "execution_count": 5,
      "metadata": {
        "colab": {
          "base_uri": "https://localhost:8080/"
        },
        "id": "6WJjI-GCKvh6",
        "outputId": "3fafefa0-3075-4b0b-8ddc-af80549158c4"
      },
      "outputs": [
        {
          "output_type": "stream",
          "name": "stdout",
          "text": [
            "noht\n"
          ]
        }
      ],
      "source": [
        "input = \"python\"\n",
        "char_list = list(input)\n",
        "if len(char_list) >= 2:\n",
        "  del char_list[:2]\n",
        "char_list.reverse()\n",
        "\n",
        "reversed_string = ''.join(char_list)\n",
        "print(reversed_string)"
      ]
    },
    {
      "cell_type": "code",
      "source": [
        "i = int(input())\n",
        "j = int(input())\n",
        "print(i+j)\n",
        "print(i-j)\n",
        "print(i*j)\n",
        "print(i/j)"
      ],
      "metadata": {
        "colab": {
          "base_uri": "https://localhost:8080/"
        },
        "id": "rUCQwrxDREpd",
        "outputId": "95b4a520-67b1-48b0-de7b-baae7760acd4"
      },
      "execution_count": 4,
      "outputs": [
        {
          "output_type": "stream",
          "name": "stdout",
          "text": [
            "1\n",
            "2\n",
            "3\n",
            "-1\n",
            "2\n",
            "0.5\n"
          ]
        }
      ]
    },
    {
      "cell_type": "code",
      "source": [
        "sentence = input(\"Enter the sentence: \")\n",
        "mod_sentence = sentence.replace('python','pythons')\n",
        "print(\"Modified sentence: \", mod_sentence)\n"
      ],
      "metadata": {
        "colab": {
          "base_uri": "https://localhost:8080/"
        },
        "id": "EjzOc8K0MqSV",
        "outputId": "509e8395-cbdb-47e5-dffd-12b519d98027"
      },
      "execution_count": 1,
      "outputs": [
        {
          "output_type": "stream",
          "name": "stdout",
          "text": [
            "Enter the sentence: I love playing with python\n",
            "Modified sentence:  I love playing with pythons\n"
          ]
        }
      ]
    },
    {
      "cell_type": "code",
      "source": [
        "class_score = float(input(\"Enter the class score\"))\n",
        "if class_score >= 95:\n",
        "  letter_grade = 'A'\n",
        "elif class_score >= 80:\n",
        "  letter_grade = 'B'\n",
        "elif class_score >= 70:\n",
        "  letter_grade = 'C'\n",
        "elif class_score >= 60:\n",
        "  letter_grade = 'D'\n",
        "else:\n",
        "  letter_grade = 'F'\n",
        "\n",
        "print(f\"Grade for {class_score} is: {letter_grade} \")\n",
        ""
      ],
      "metadata": {
        "colab": {
          "base_uri": "https://localhost:8080/"
        },
        "id": "dPJZS5LnO-mL",
        "outputId": "b42b1739-adc3-48d1-f93f-c0b80d020ecd"
      },
      "execution_count": 3,
      "outputs": [
        {
          "output_type": "stream",
          "name": "stdout",
          "text": [
            "Enter the class score90\n",
            "Grade for 90.0 is: B \n"
          ]
        }
      ]
    },
    {
      "cell_type": "code",
      "source": [],
      "metadata": {
        "id": "Kb4I3zCzOkwh"
      },
      "execution_count": null,
      "outputs": []
    }
  ]
}